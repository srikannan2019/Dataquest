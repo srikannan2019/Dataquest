{
 "cells": [
  {
   "cell_type": "markdown",
   "metadata": {},
   "source": [
    "                      Probability Analysis for Mobile App Development for Lottery Addiction                 \n",
    "                 \n",
    "A medical institute that aims to prevent and treat gambling addictions wants to build a dedicated mobile app to help lottery addicts better estimate their chances of winning. The institute has a team of engineers that will build the app, but they need us to create the logical core of the app and calculate probabilities.\n",
    "\n",
    "The app developer wants the patients to answer few questions like\n",
    "1)What is the probability of winning the big prize with a single ticket?\n",
    "2)What is the probability of winning the big prize if we play 40 different tickets (or any other number)?\n",
    "3)What is the probability of having at least five (or four, or three, or two) winning numbers on a single ticket?\n",
    "\n",
    "Two functions one to calculate factorials and other to find the combinations.\n"
   ]
  },
  {
   "cell_type": "code",
   "execution_count": 23,
   "metadata": {
    "collapsed": true
   },
   "outputs": [],
   "source": [
    "def factorial(n):\n",
    "    final_product = 1\n",
    "    for i in range (n,0,-1):\n",
    "        final_product  *= i\n",
    "    return final_product\n",
    "def combination(n,k):\n",
    "    numerator  = factorial(n)\n",
    "    denominator = factorial(n - k)\n",
    "    return numerator/denominator\n",
    "\n",
    "\n"
   ]
  },
  {
   "cell_type": "markdown",
   "metadata": {},
   "source": [
    "Function to calculate the probability of winning the big prize using a single ticket.In 6/49 lottery, six numbers are drawn from 49 numbers in range and if those match the 6 numbers in the ticket,the player wins."
   ]
  },
  {
   "cell_type": "code",
   "execution_count": 24,
   "metadata": {},
   "outputs": [],
   "source": [
    "def one_ticket_probability(six_list):\n",
    "    num_of_comb = combination(49,6)\n",
    "    prob_one_ticket = 1/num_of_comb\n",
    "    percentage_prob = prob_one_ticket * 100\n",
    "    \n",
    "    print('''The user chances to win a big prize with the numbers {} are {:.7f}%.In other words,you have 1 in {:,} chances to win.'''.format(six_list,percentage_prob,int(num_of_comb)))\n",
    "    \n",
    "    "
   ]
  },
  {
   "cell_type": "code",
   "execution_count": 25,
   "metadata": {},
   "outputs": [
    {
     "name": "stdout",
     "output_type": "stream",
     "text": [
      "The user chances to win a big prize with the numbers [2, 43, 22, 23, 11, 5] are 0.0000000%.In other words,you have 1 in 10,068,347,520 chances to win.\n"
     ]
    }
   ],
   "source": [
    "test_input_1 = [2, 43, 22, 23, 11, 5]\n",
    "one_ticket_probability(test_input_1)"
   ]
  },
  {
   "cell_type": "markdown",
   "metadata": {},
   "source": [
    "Explore the historical data of 3665 drawings to compare the user ticket with this experiment.The dataset is from kaggle in this link:https://www.kaggle.com/datascienceai/lottery-dataset\n"
   ]
  },
  {
   "cell_type": "code",
   "execution_count": 26,
   "metadata": {},
   "outputs": [
    {
     "data": {
      "text/html": [
       "<div>\n",
       "<style scoped>\n",
       "    .dataframe tbody tr th:only-of-type {\n",
       "        vertical-align: middle;\n",
       "    }\n",
       "\n",
       "    .dataframe tbody tr th {\n",
       "        vertical-align: top;\n",
       "    }\n",
       "\n",
       "    .dataframe thead th {\n",
       "        text-align: right;\n",
       "    }\n",
       "</style>\n",
       "<table border=\"1\" class=\"dataframe\">\n",
       "  <thead>\n",
       "    <tr style=\"text-align: right;\">\n",
       "      <th></th>\n",
       "      <th>PRODUCT</th>\n",
       "      <th>DRAW NUMBER</th>\n",
       "      <th>SEQUENCE NUMBER</th>\n",
       "      <th>DRAW DATE</th>\n",
       "      <th>NUMBER DRAWN 1</th>\n",
       "      <th>NUMBER DRAWN 2</th>\n",
       "      <th>NUMBER DRAWN 3</th>\n",
       "      <th>NUMBER DRAWN 4</th>\n",
       "      <th>NUMBER DRAWN 5</th>\n",
       "      <th>NUMBER DRAWN 6</th>\n",
       "      <th>BONUS NUMBER</th>\n",
       "    </tr>\n",
       "  </thead>\n",
       "  <tbody>\n",
       "    <tr>\n",
       "      <th>0</th>\n",
       "      <td>649</td>\n",
       "      <td>1</td>\n",
       "      <td>0</td>\n",
       "      <td>6/12/1982</td>\n",
       "      <td>3</td>\n",
       "      <td>11</td>\n",
       "      <td>12</td>\n",
       "      <td>14</td>\n",
       "      <td>41</td>\n",
       "      <td>43</td>\n",
       "      <td>13</td>\n",
       "    </tr>\n",
       "    <tr>\n",
       "      <th>1</th>\n",
       "      <td>649</td>\n",
       "      <td>2</td>\n",
       "      <td>0</td>\n",
       "      <td>6/19/1982</td>\n",
       "      <td>8</td>\n",
       "      <td>33</td>\n",
       "      <td>36</td>\n",
       "      <td>37</td>\n",
       "      <td>39</td>\n",
       "      <td>41</td>\n",
       "      <td>9</td>\n",
       "    </tr>\n",
       "    <tr>\n",
       "      <th>2</th>\n",
       "      <td>649</td>\n",
       "      <td>3</td>\n",
       "      <td>0</td>\n",
       "      <td>6/26/1982</td>\n",
       "      <td>1</td>\n",
       "      <td>6</td>\n",
       "      <td>23</td>\n",
       "      <td>24</td>\n",
       "      <td>27</td>\n",
       "      <td>39</td>\n",
       "      <td>34</td>\n",
       "    </tr>\n",
       "    <tr>\n",
       "      <th>3</th>\n",
       "      <td>649</td>\n",
       "      <td>4</td>\n",
       "      <td>0</td>\n",
       "      <td>7/3/1982</td>\n",
       "      <td>3</td>\n",
       "      <td>9</td>\n",
       "      <td>10</td>\n",
       "      <td>13</td>\n",
       "      <td>20</td>\n",
       "      <td>43</td>\n",
       "      <td>34</td>\n",
       "    </tr>\n",
       "    <tr>\n",
       "      <th>4</th>\n",
       "      <td>649</td>\n",
       "      <td>5</td>\n",
       "      <td>0</td>\n",
       "      <td>7/10/1982</td>\n",
       "      <td>5</td>\n",
       "      <td>14</td>\n",
       "      <td>21</td>\n",
       "      <td>31</td>\n",
       "      <td>34</td>\n",
       "      <td>47</td>\n",
       "      <td>45</td>\n",
       "    </tr>\n",
       "  </tbody>\n",
       "</table>\n",
       "</div>"
      ],
      "text/plain": [
       "   PRODUCT  DRAW NUMBER  SEQUENCE NUMBER  DRAW DATE  NUMBER DRAWN 1  \\\n",
       "0      649            1                0  6/12/1982               3   \n",
       "1      649            2                0  6/19/1982               8   \n",
       "2      649            3                0  6/26/1982               1   \n",
       "3      649            4                0   7/3/1982               3   \n",
       "4      649            5                0  7/10/1982               5   \n",
       "\n",
       "   NUMBER DRAWN 2  NUMBER DRAWN 3  NUMBER DRAWN 4  NUMBER DRAWN 5  \\\n",
       "0              11              12              14              41   \n",
       "1              33              36              37              39   \n",
       "2               6              23              24              27   \n",
       "3               9              10              13              20   \n",
       "4              14              21              31              34   \n",
       "\n",
       "   NUMBER DRAWN 6  BONUS NUMBER  \n",
       "0              43            13  \n",
       "1              41             9  \n",
       "2              39            34  \n",
       "3              43            34  \n",
       "4              47            45  "
      ]
     },
     "execution_count": 26,
     "metadata": {},
     "output_type": "execute_result"
    }
   ],
   "source": [
    "import pandas as pd\n",
    "df = pd.read_csv('649.csv')\n",
    "df.head()\n"
   ]
  },
  {
   "cell_type": "markdown",
   "metadata": {},
   "source": [
    "Function to extract the winning six numbers from the data set"
   ]
  },
  {
   "cell_type": "code",
   "execution_count": 27,
   "metadata": {},
   "outputs": [
    {
     "data": {
      "text/plain": [
       "0        {3, 41, 11, 12, 43, 14}\n",
       "1        {33, 36, 37, 39, 8, 41}\n",
       "2         {1, 6, 39, 23, 24, 27}\n",
       "3         {3, 9, 10, 43, 13, 20}\n",
       "4        {34, 5, 14, 47, 21, 31}\n",
       "5        {8, 41, 20, 21, 25, 31}\n",
       "6       {33, 36, 42, 18, 25, 28}\n",
       "7        {7, 40, 16, 17, 48, 31}\n",
       "8        {5, 38, 37, 10, 23, 27}\n",
       "9        {4, 37, 46, 15, 48, 30}\n",
       "10        {33, 38, 7, 9, 42, 21}\n",
       "11      {36, 11, 43, 17, 19, 20}\n",
       "12       {37, 7, 14, 47, 17, 20}\n",
       "13      {35, 44, 25, 28, 29, 30}\n",
       "14       {36, 39, 8, 41, 47, 18}\n",
       "15       {9, 12, 13, 14, 44, 48}\n",
       "16       {4, 40, 43, 44, 14, 18}\n",
       "17      {34, 35, 36, 13, 16, 18}\n",
       "18      {36, 11, 23, 25, 28, 29}\n",
       "19       {37, 7, 45, 18, 23, 25}\n",
       "20      {37, 11, 45, 18, 19, 31}\n",
       "21       {8, 14, 16, 48, 18, 31}\n",
       "22       {4, 11, 45, 23, 24, 25}\n",
       "23        {33, 34, 3, 4, 48, 19}\n",
       "24       {5, 43, 17, 21, 28, 30}\n",
       "25       {36, 6, 38, 46, 17, 24}\n",
       "26        {4, 9, 10, 11, 43, 46}\n",
       "27       {32, 33, 7, 13, 45, 23}\n",
       "28      {35, 37, 11, 18, 22, 28}\n",
       "29      {35, 45, 48, 25, 26, 31}\n",
       "                  ...           \n",
       "3635     {2, 10, 43, 44, 48, 28}\n",
       "3636      {1, 33, 9, 10, 43, 19}\n",
       "3637    {35, 43, 44, 46, 16, 17}\n",
       "3638       {1, 5, 39, 9, 41, 12}\n",
       "3639     {9, 11, 45, 49, 28, 30}\n",
       "3640    {11, 12, 46, 19, 24, 28}\n",
       "3641      {3, 7, 43, 47, 22, 26}\n",
       "3642       {34, 6, 8, 9, 40, 13}\n",
       "3643    {36, 40, 47, 49, 18, 22}\n",
       "3644      {32, 3, 7, 41, 10, 43}\n",
       "3645     {1, 36, 11, 48, 49, 19}\n",
       "3646    {39, 12, 17, 19, 22, 27}\n",
       "3647    {41, 12, 49, 19, 20, 30}\n",
       "3648    {40, 10, 46, 14, 16, 15}\n",
       "3649    {33, 34, 44, 46, 24, 31}\n",
       "3650      {4, 37, 36, 7, 49, 28}\n",
       "3651     {33, 4, 48, 18, 24, 26}\n",
       "3652    {36, 37, 15, 17, 21, 24}\n",
       "3653     {34, 37, 6, 44, 17, 21}\n",
       "3654    {39, 46, 19, 21, 28, 30}\n",
       "3655    {34, 38, 44, 14, 15, 28}\n",
       "3656      {4, 9, 42, 44, 15, 20}\n",
       "3657    {39, 12, 13, 44, 16, 23}\n",
       "3658     {38, 39, 9, 14, 17, 21}\n",
       "3659     {32, 2, 40, 45, 49, 26}\n",
       "3660    {38, 40, 41, 10, 15, 23}\n",
       "3661    {36, 46, 47, 19, 25, 31}\n",
       "3662     {32, 34, 6, 22, 24, 31}\n",
       "3663     {2, 38, 15, 49, 21, 31}\n",
       "3664    {35, 37, 14, 48, 24, 31}\n",
       "Length: 3665, dtype: object"
      ]
     },
     "execution_count": 27,
     "metadata": {},
     "output_type": "execute_result"
    }
   ],
   "source": [
    "def extract_numbers(rows):\n",
    "    rows = rows[4:10]\n",
    "    rows = set(rows.values)\n",
    "    return rows\n",
    "\n",
    "winning_numbers = df.apply(extract_numbers,axis = 1)\n",
    "winning_numbers"
   ]
  },
  {
   "cell_type": "markdown",
   "metadata": {},
   "source": [
    "Function to compare the canadian historical data with the user ticket to show whether they would have won."
   ]
  },
  {
   "cell_type": "code",
   "execution_count": 30,
   "metadata": {
    "collapsed": true
   },
   "outputs": [],
   "source": [
    "def check_historical_occurence(user_input,hist_numbers):\n",
    "    user_numbers = set(user_input)\n",
    "    chk_occurence = user_numbers == hist_numbers\n",
    "    num_occurence = chk_occurence.sum()\n",
    "    if num_occurence == 0:\n",
    "        print(\"The combination has never occured\")\n",
    "    else:\n",
    "        print(\"The number of times combinations occured is {}\".format(num_occurence))"
   ]
  },
  {
   "cell_type": "code",
   "execution_count": 31,
   "metadata": {},
   "outputs": [
    {
     "name": "stdout",
     "output_type": "stream",
     "text": [
      "The number of times combinations occured is 1\n"
     ]
    }
   ],
   "source": [
    "\n",
    "test_input_3 = [33, 36, 37, 39, 8, 41]\n",
    "check_historical_occurence(test_input_3, winning_numbers)"
   ]
  },
  {
   "cell_type": "markdown",
   "metadata": {},
   "source": [
    "Function to estimate the chances of winning using more than one ticket "
   ]
  },
  {
   "cell_type": "code",
   "execution_count": 32,
   "metadata": {
    "collapsed": true
   },
   "outputs": [],
   "source": [
    "def multi_ticket_probabilty(n_tickets):\n",
    "    num_combinations = combination(49,6)\n",
    "    num_successful_outcomes = n_tickets/num_combinations\n",
    "    percentage_probability  = num_successful_outcomes * 100\n",
    "    if n_tickets == 1:\n",
    "        print(\"Chance to win the lottery using one big ticket is {}\".format(percentage_probability))\n",
    "    else:\n",
    "        combinations_final = num_combinations/n_tickets\n",
    "        print(\"Chance to win the lottery using more than one ticket is {}\".format(combinations_final))\n",
    "        \n",
    "        \n",
    "        \n",
    "    "
   ]
  },
  {
   "cell_type": "code",
   "execution_count": 34,
   "metadata": {},
   "outputs": [
    {
     "name": "stdout",
     "output_type": "stream",
     "text": [
      "Chance to win the lottery using one big ticket is 9.93211644724794e-09\n",
      "------------------------\n",
      "Chance to win the lottery using more than one ticket is 1006834752.0\n",
      "------------------------\n",
      "Chance to win the lottery using more than one ticket is 100683475.2\n",
      "------------------------\n",
      "Chance to win the lottery using more than one ticket is 1006834.752\n",
      "------------------------\n",
      "Chance to win the lottery using more than one ticket is 10068.34752\n",
      "------------------------\n",
      "Chance to win the lottery using more than one ticket is 1440.0\n",
      "------------------------\n",
      "Chance to win the lottery using more than one ticket is 720.0\n",
      "------------------------\n"
     ]
    }
   ],
   "source": [
    "test_inputs = [1, 10, 100, 10000, 1000000, 6991908, 13983816]\n",
    "for test_input in test_inputs:\n",
    "    multi_ticket_probabilty(test_input)\n",
    "    print('------------------------') # output delimiter"
   ]
  },
  {
   "cell_type": "code",
   "execution_count": null,
   "metadata": {
    "collapsed": true
   },
   "outputs": [],
   "source": [
    "\n",
    "    "
   ]
  }
 ],
 "metadata": {
  "kernelspec": {
   "display_name": "Python 3",
   "language": "python",
   "name": "python3"
  },
  "language_info": {
   "codemirror_mode": {
    "name": "ipython",
    "version": 3
   },
   "file_extension": ".py",
   "mimetype": "text/x-python",
   "name": "python",
   "nbconvert_exporter": "python",
   "pygments_lexer": "ipython3",
   "version": "3.7.1"
  }
 },
 "nbformat": 4,
 "nbformat_minor": 2
}
