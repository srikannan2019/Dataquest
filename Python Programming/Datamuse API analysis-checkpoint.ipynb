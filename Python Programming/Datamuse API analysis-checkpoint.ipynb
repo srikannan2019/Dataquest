{
 "cells": [
  {
   "cell_type": "code",
   "execution_count": 55,
   "metadata": {},
   "outputs": [
    {
     "name": "stdout",
     "output_type": "stream",
     "text": [
      "tinnitus\n",
      "ring\n",
      "cinchonism\n"
     ]
    }
   ],
   "source": [
    "#Datamuse is a word finding query engine.\n",
    "#check for the api documentation here \n",
    "#It can be used to find words that match with constraints of sound,spelling,meaning and vocabulary or in any combination of these\n",
    "#This API gives access to most of the functionality of Datamuse and its related OneLook,RhymeZone ,Rimar.io and Wikisearch\n",
    "#The Endpoint  \" https://api.datamuse.com/words\" with query parameters gives access to most features\n",
    "#The Endpoint \"https://api.datamuse.com/sug\" is for autocomplete function on search\n",
    "\n",
    "import requests\n",
    "#try the query parameters  ml,  sl, sp, rel_[code] mentioned \n",
    "#ml is meaning similar to ringing in the ears\n",
    "parameters = {\"ml\":\"ringing in the ears\"}\n",
    "response_ml = requests.get(\"https://api.datamuse.com/words\",params = parameters)\n",
    "#prints the content of the response ie the data the server is returned\n",
    "response_ml.content\n",
    "# To slice first three words from the response \n",
    "ml_json = response_ml.json()\n",
    "for i in ml_json[0:3]:\n",
    " print(i['word'])\n",
    "\n"
   ]
  },
  {
   "cell_type": "code",
   "execution_count": 26,
   "metadata": {},
   "outputs": [
    {
     "data": {
      "text/plain": [
       "200"
      ]
     },
     "execution_count": 26,
     "metadata": {},
     "output_type": "execute_result"
    }
   ],
   "source": [
    "#check for the status code and headers as dict with meta data \n",
    "response_ml.headers\n",
    "\n",
    "response_ml.status_code\n",
    "\n"
   ]
  },
  {
   "cell_type": "code",
   "execution_count": 31,
   "metadata": {},
   "outputs": [
    {
     "name": "stdout",
     "output_type": "stream",
     "text": [
      "elephant\n",
      "elefant\n",
      "oliphant\n"
     ]
    }
   ],
   "source": [
    "#sl is sounds like constraint that produces results similar to the given sound of string of the characters \n",
    "parameters = {\"sl\":\"elefint\"}\n",
    "response_sl = requests.get(\"https://api.datamuse.com/words\",params = parameters)\n",
    "sl_json = response_sl.json()\n",
    "\n",
    "for i in sl_json[0:3]:\n",
    " print(i['word'])"
   ]
  },
  {
   "cell_type": "code",
   "execution_count": 32,
   "metadata": {},
   "outputs": [
    {
     "data": {
      "text/plain": [
       "200"
      ]
     },
     "execution_count": 32,
     "metadata": {},
     "output_type": "execute_result"
    }
   ],
   "source": [
    "response_sl.status_code"
   ]
  },
  {
   "cell_type": "code",
   "execution_count": 53,
   "metadata": {},
   "outputs": [
    {
     "name": "stdout",
     "output_type": "stream",
     "text": [
      "[{'word': 'hotdog', 'score': 432}, {'word': 'hot dog', 'score': 302}, {'word': 'hating', 'score': 145}, {'word': 'hutong', 'score': 20}, {'word': 'hitzig', 'score': 13}, {'word': 'http ng', 'score': 3}]\n"
     ]
    }
   ],
   "source": [
    "# sp is spell like constraint returns the spell like string of characters or matchin pattern using * for any number of characters,? for exact number of characters\n",
    "parameters = {\"sp\":\"h?t??g\"}\n",
    "\n",
    "response_sp = requests.get(\"https://api.datamuse.com/words\",params = parameters)\n",
    "sp_json = response_sp.json()\n",
    "print(sp_json)"
   ]
  },
  {
   "cell_type": "code",
   "execution_count": 54,
   "metadata": {},
   "outputs": [
    {
     "name": "stdout",
     "output_type": "stream",
     "text": [
      "[{'word': 'wake', 'score': 2929}]\n"
     ]
    }
   ],
   "source": [
    "#Check for the query parameter rel_[code] that is related word constraint that can have identifiers for synonyms,antonyms,nouns ,adjectives etc\n",
    "parameters = {\"rel_ant\":\"sleep\"}\n",
    "#The above parameter is to search for the antonym for the word mentioned in the parameters dict\n",
    "response_ant = requests.get(\"https://api.datamuse.com/words\",params = parameters)\n",
    "rel_json = response_ant.json()\n",
    "print(rel_json)\n",
    "#The output is a JSON list of word objects with the word matching the constraint and the metadata of some integer score\n",
    "#If the constraints are not matched an empty list [] will be returned.\n",
    "\n"
   ]
  },
  {
   "cell_type": "code",
   "execution_count": 59,
   "metadata": {},
   "outputs": [
    {
     "name": "stdout",
     "output_type": "stream",
     "text": [
      "[{'word': 'cookie', 'score': 4982}, {'word': 'course', 'score': 4412}, {'word': 'control', 'score': 4308}]\n"
     ]
    }
   ],
   "source": [
    "#Now explore the other endpoint that helps in the backend feature for  autocomplete on websites and widgets.\n",
    "#It has three query paramters s,max and v \n",
    "#\"s\" gives the characters typed so far in the box for search\n",
    "#\"max\" gives the number of results returned\n",
    "\n",
    "parameters = {\"s\":\"co\",\"max\":\"3\"}\n",
    "response_search = requests.get(\"https://api.datamuse.com/sug\",params = parameters)\n",
    "search_json = response_search.json()\n",
    "print(search_json)"
   ]
  },
  {
   "cell_type": "code",
   "execution_count": 74,
   "metadata": {},
   "outputs": [],
   "source": [
    "#v to identify the voabulary for use that is the words needed to added for vocabulary\n",
    "#if nothing is specified ,a 550,000-term vocabulary of English words and multiword expressions is used\n",
    "parameters = {\"v\":\"john\"}\n",
    "\n",
    "response_vocab = requests.get(\"https://api.datamuse.com/sug\",params = parameters)\n"
   ]
  },
  {
   "cell_type": "code",
   "execution_count": 75,
   "metadata": {},
   "outputs": [
    {
     "name": "stdout",
     "output_type": "stream",
     "text": [
      "[{'word': 'john', 'score': 2001}]\n"
     ]
    }
   ],
   "source": [
    "parameters = {\"sp\":\"john\"}\n",
    "\n",
    "response_sp = requests.get(\"https://api.datamuse.com/words\",params = parameters)\n",
    "sp_json = response_sp.json()\n",
    "print(sp_json)"
   ]
  },
  {
   "cell_type": "code",
   "execution_count": null,
   "metadata": {},
   "outputs": [],
   "source": []
  }
 ],
 "metadata": {
  "kernelspec": {
   "display_name": "Python 3",
   "language": "python",
   "name": "python3"
  },
  "language_info": {
   "codemirror_mode": {
    "name": "ipython",
    "version": 3
   },
   "file_extension": ".py",
   "mimetype": "text/x-python",
   "name": "python",
   "nbconvert_exporter": "python",
   "pygments_lexer": "ipython3",
   "version": "3.7.0"
  }
 },
 "nbformat": 4,
 "nbformat_minor": 2
}
