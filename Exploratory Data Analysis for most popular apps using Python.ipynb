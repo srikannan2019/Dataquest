{
 "cells": [
  {
   "cell_type": "markdown",
   "metadata": {},
   "source": [
    "                                    Data Analysis for most popular free apps                   \n",
    "To analyse the most attracted ios apps and android appsto the users that are free to download from play store and app store\n",
    "The company gets revenue by the in app ads so more users more revenue to the company and to explore the 2 data sets for android and ios."
   ]
  },
  {
   "cell_type": "code",
   "execution_count": 15,
   "metadata": {},
   "outputs": [],
   "source": [
    "\n",
    "from csv import reader\n",
    "#may get unicode decode error if the encoding is not mentioned since Python CSV module doesnot support non-ASCII characters\\n\",\n",
    "  \n",
    "    #Android Data\n",
    "opened_file_android = open(r'C:\\Users\\SRIVIDHYA\\Desktop\\Data Quest\\Guided proj revisit\\googleplaystore.csv',encoding ='utf-8')\n",
    "read_file_android = reader(opened_file_android)\n",
    "android = list(read_file_android)\n",
    "android_header = android[0]\n",
    "android = android[1:]\n",
    "    \n",
    "    #iOS Data\n",
    "opened_file_ios = open(r'C:\\Users\\SRIVIDHYA\\Desktop\\Data Quest\\Guided proj revisit\\AppleStore.csv',encoding ='utf-8')\n",
    "read_file_ios = reader(opened_file_ios)\n",
    "ios = list(read_file_ios)\n",
    "ios_header = ios[0]\n",
    "ios = ios[1:]\n",
    "    \n",
    "  \n",
    "    #Define a function to explore both the data sets\\n\",\n",
    "def explore_data(dataset, start, end, rows_and_columns=False):\n",
    "    dataset_slice = dataset[start:end]    \n",
    "    for row in dataset_slice:\n",
    "        print(row)\n",
    "        print('\\n') # adds a new (empty) line between rows\n",
    "        \n",
    "    if rows_and_columns:\n",
    "        print('Number of rows:', len(dataset))\n",
    "        print('Number of columns:', len(dataset[0]))\n"
   ]
  },
  {
   "cell_type": "code",
   "execution_count": 2,
   "metadata": {},
   "outputs": [
    {
     "name": "stdout",
     "output_type": "stream",
     "text": [
      "['Photo Editor & Candy Camera & Grid & ScrapBook', 'ART_AND_DESIGN', '4.1', '159', '19M', '10,000+', 'Free', '0', 'Everyone', 'Art & Design', 'January 7, 2018', '1.0.0', '4.0.3 and up']\n",
      "\n",
      "\n",
      "['Coloring book moana', 'ART_AND_DESIGN', '3.9', '967', '14M', '500,000+', 'Free', '0', 'Everyone', 'Art & Design;Pretend Play', 'January 15, 2018', '2.0.0', '4.0.3 and up']\n",
      "\n",
      "\n",
      "['U Launcher Lite – FREE Live Cool Themes, Hide Apps', 'ART_AND_DESIGN', '4.7', '87510', '8.7M', '5,000,000+', 'Free', '0', 'Everyone', 'Art & Design', 'August 1, 2018', '1.2.4', '4.0.3 and up']\n",
      "\n",
      "\n",
      "Number of rows: 10841\n",
      "Number of columns: 13\n",
      "['1', '281656475', 'PAC-MAN Premium', '100788224', 'USD', '3.99', '21292', '26', '4', '4.5', '6.3.5', '4+', 'Games', '38', '5', '10', '1']\n",
      "\n",
      "\n",
      "['2', '281796108', 'Evernote - stay organized', '158578688', 'USD', '0', '161065', '26', '4', '3.5', '8.2.2', '4+', 'Productivity', '37', '5', '23', '1']\n",
      "\n",
      "\n",
      "['3', '281940292', 'WeatherBug - Local Weather, Radar, Maps, Alerts', '100524032', 'USD', '0', '188583', '2822', '3.5', '4.5', '5.0.0', '4+', 'Weather', '37', '5', '3', '1']\n",
      "\n",
      "\n",
      "Number of rows: 7197\n",
      "Number of columns: 17\n"
     ]
    }
   ],
   "source": [
    "#to print few rows of dataset\n",
    "explore_data(android,0,3,True)\n",
    "explore_data(ios,0,3,True)"
   ]
  },
  {
   "cell_type": "code",
   "execution_count": 16,
   "metadata": {},
   "outputs": [
    {
     "name": "stdout",
     "output_type": "stream",
     "text": [
      "['Life Made WI-Fi Touchscreen Photo Frame', '1.9', '19', '3.0M', '1,000+', 'Free', '0', 'Everyone', '', 'February 11, 2018', '1.0.19', '4.0 and up']\n",
      "\n",
      "\n",
      "['App', 'Category', 'Rating', 'Reviews', 'Size', 'Installs', 'Type', 'Price', 'Content Rating', 'Genres', 'Last Updated', 'Current Ver', 'Android Ver']\n",
      "\n",
      "\n",
      "['Photo Editor & Candy Camera & Grid & ScrapBook', 'ART_AND_DESIGN', '4.1', '159', '19M', '10,000+', 'Free', '0', 'Everyone', 'Art & Design', 'January 7, 2018', '1.0.0', '4.0.3 and up']\n"
     ]
    }
   ],
   "source": [
    "print(android[10472])  # incorrect row\n",
    "print('\\n')\n",
    "print(android_header)  # header\n",
    "print('\\n')\n",
    "print(android[0])      # correct row"
   ]
  },
  {
   "cell_type": "code",
   "execution_count": 6,
   "metadata": {},
   "outputs": [
    {
     "name": "stdout",
     "output_type": "stream",
     "text": [
      "10841\n",
      "10840\n"
     ]
    }
   ],
   "source": [
    "print(len(android))\n",
    "del android[10472]  # don't run this more than once\n",
    "print(len(android))"
   ]
  },
  {
   "cell_type": "markdown",
   "metadata": {},
   "source": [
    "Remove the non english apps,remove the paid app and remove the duplicate rows"
   ]
  },
  {
   "cell_type": "code",
   "execution_count": 17,
   "metadata": {},
   "outputs": [
    {
     "name": "stdout",
     "output_type": "stream",
     "text": [
      "The number of duplicate apps: 1181\n",
      "The number of unique apps: 9660\n",
      "Examples of duplicate_apps are: ['Quick PDF Scanner + OCR FREE', 'Box', 'Google My Business', 'ZOOM Cloud Meetings', 'join.me - Simple Meetings', 'Box', 'Zenefits', 'Google Ads', 'Google My Business', 'Slack']\n"
     ]
    }
   ],
   "source": [
    "\n",
    "duplicate_apps =[]\n",
    "unique_apps =[]\n",
    "for app in android:\n",
    "    name = app[0]\n",
    "    if name in unique_apps:\n",
    "        duplicate_apps.append(name)\n",
    "    else:\n",
    "        unique_apps.append(name)\n",
    "print(\"The number of duplicate apps:\",len(duplicate_apps))\n",
    "print(\"The number of unique apps:\",len(unique_apps))\n",
    "print(\"Examples of duplicate_apps are:\",duplicate_apps[:10])"
   ]
  },
  {
   "cell_type": "markdown",
   "metadata": {},
   "source": [
    "•\twe are going to remove the duplicate apps others than the apps with the highest views since those correspond to the latest.\n",
    "•\tcreate a dictionary with unique appname andhighest  number of reviews for that app \n",
    "•\tif app name is ter in dictionary ,it adds the app name and number of views\n",
    "•\tnumber of duplicate rows is 1180\n",
    "•\tthis dict if or the criteria to delete the duplicate rows that is dict has only app name with highest views\n"
   ]
  },
  {
   "cell_type": "code",
   "execution_count": 18,
   "metadata": {},
   "outputs": [
    {
     "ename": "ValueError",
     "evalue": "could not convert string to float: '3.0M'",
     "output_type": "error",
     "traceback": [
      "\u001b[1;31m---------------------------------------------------------------------------\u001b[0m",
      "\u001b[1;31mValueError\u001b[0m                                Traceback (most recent call last)",
      "\u001b[1;32m<ipython-input-18-cb21cc7484c9>\u001b[0m in \u001b[0;36m<module>\u001b[1;34m\u001b[0m\n\u001b[0;32m      7\u001b[0m \u001b[1;32mfor\u001b[0m \u001b[0mapps\u001b[0m \u001b[1;32min\u001b[0m \u001b[0mandroid\u001b[0m\u001b[1;33m:\u001b[0m\u001b[1;33m\u001b[0m\u001b[1;33m\u001b[0m\u001b[0m\n\u001b[0;32m      8\u001b[0m     \u001b[0mname\u001b[0m \u001b[1;33m=\u001b[0m \u001b[0mapps\u001b[0m\u001b[1;33m[\u001b[0m\u001b[1;36m0\u001b[0m\u001b[1;33m]\u001b[0m\u001b[1;33m\u001b[0m\u001b[1;33m\u001b[0m\u001b[0m\n\u001b[1;32m----> 9\u001b[1;33m     \u001b[0mn_reviews\u001b[0m \u001b[1;33m=\u001b[0m \u001b[0mfloat\u001b[0m\u001b[1;33m(\u001b[0m\u001b[0mapps\u001b[0m\u001b[1;33m[\u001b[0m\u001b[1;36m3\u001b[0m\u001b[1;33m]\u001b[0m\u001b[1;33m)\u001b[0m\u001b[1;33m\u001b[0m\u001b[1;33m\u001b[0m\u001b[0m\n\u001b[0m\u001b[0;32m     10\u001b[0m     \u001b[1;32mif\u001b[0m \u001b[0mname\u001b[0m \u001b[1;32min\u001b[0m \u001b[0mreviews_max\u001b[0m \u001b[1;32mand\u001b[0m \u001b[0mreviews_max\u001b[0m\u001b[1;33m[\u001b[0m\u001b[0mname\u001b[0m\u001b[1;33m]\u001b[0m \u001b[1;33m<\u001b[0m \u001b[0mn_reviews\u001b[0m\u001b[1;33m:\u001b[0m\u001b[1;33m\u001b[0m\u001b[1;33m\u001b[0m\u001b[0m\n\u001b[0;32m     11\u001b[0m         \u001b[0mreviews_max\u001b[0m\u001b[1;33m[\u001b[0m\u001b[0mname\u001b[0m\u001b[1;33m]\u001b[0m \u001b[1;33m=\u001b[0m \u001b[0mn_reviews\u001b[0m\u001b[1;33m\u001b[0m\u001b[1;33m\u001b[0m\u001b[0m\n",
      "\u001b[1;31mValueError\u001b[0m: could not convert string to float: '3.0M'"
     ]
    }
   ],
   "source": [
    "\n",
    "reviews_max= {}\n",
    "for apps in android:\n",
    "    name = apps[0]\n",
    "    n_reviews = float(apps[3])\n",
    "    if name in reviews_max and reviews_max[name] < n_reviews:\n",
    "        reviews_max[name] = n_reviews\n",
    "    elif name not in reviews_max:\n",
    "        reviews_max[name] = n_reviews\n",
    "        \n",
    "\n",
    "print('Expected length:', len(android) - 1181)\n",
    "print('Actual length:', len(reviews_max))   "
   ]
  },
  {
   "cell_type": "markdown",
   "metadata": {},
   "source": [
    "So to remove the duplicate rows and have only the rows in the newly created dict with app name and highest reviews.\n",
    "This is the new cleaned data set that has app names."
   ]
  },
  {
   "cell_type": "code",
   "execution_count": 19,
   "metadata": {},
   "outputs": [
    {
     "ename": "ValueError",
     "evalue": "could not convert string to float: '3.0M'",
     "output_type": "error",
     "traceback": [
      "\u001b[1;31m---------------------------------------------------------------------------\u001b[0m",
      "\u001b[1;31mValueError\u001b[0m                                Traceback (most recent call last)",
      "\u001b[1;32m<ipython-input-19-d2d83708f0b8>\u001b[0m in \u001b[0;36m<module>\u001b[1;34m\u001b[0m\n\u001b[0;32m      6\u001b[0m \u001b[1;32mfor\u001b[0m \u001b[0mapps\u001b[0m \u001b[1;32min\u001b[0m \u001b[0mandroid\u001b[0m\u001b[1;33m:\u001b[0m\u001b[1;33m\u001b[0m\u001b[1;33m\u001b[0m\u001b[0m\n\u001b[0;32m      7\u001b[0m     \u001b[0mname\u001b[0m \u001b[1;33m=\u001b[0m \u001b[0mapps\u001b[0m\u001b[1;33m[\u001b[0m\u001b[1;36m0\u001b[0m\u001b[1;33m]\u001b[0m\u001b[1;33m\u001b[0m\u001b[1;33m\u001b[0m\u001b[0m\n\u001b[1;32m----> 8\u001b[1;33m     \u001b[0mn_reviews\u001b[0m \u001b[1;33m=\u001b[0m \u001b[0mfloat\u001b[0m\u001b[1;33m(\u001b[0m\u001b[0mapps\u001b[0m\u001b[1;33m[\u001b[0m\u001b[1;36m3\u001b[0m\u001b[1;33m]\u001b[0m\u001b[1;33m)\u001b[0m\u001b[1;33m\u001b[0m\u001b[1;33m\u001b[0m\u001b[0m\n\u001b[0m\u001b[0;32m      9\u001b[0m     \u001b[1;32mif\u001b[0m \u001b[1;33m(\u001b[0m\u001b[0mreviews_max\u001b[0m\u001b[1;33m[\u001b[0m\u001b[0mname\u001b[0m\u001b[1;33m]\u001b[0m  \u001b[1;33m==\u001b[0m \u001b[0mn_reviews\u001b[0m \u001b[1;33m)\u001b[0m \u001b[1;32mand\u001b[0m \u001b[1;33m(\u001b[0m\u001b[0mname\u001b[0m \u001b[1;32mnot\u001b[0m \u001b[1;32min\u001b[0m  \u001b[0malready_added\u001b[0m\u001b[1;33m)\u001b[0m\u001b[1;33m:\u001b[0m\u001b[1;33m\u001b[0m\u001b[1;33m\u001b[0m\u001b[0m\n\u001b[0;32m     10\u001b[0m         \u001b[0mandroid_clean\u001b[0m\u001b[1;33m.\u001b[0m\u001b[0mappend\u001b[0m\u001b[1;33m(\u001b[0m\u001b[0mapps\u001b[0m\u001b[1;33m)\u001b[0m\u001b[1;33m\u001b[0m\u001b[1;33m\u001b[0m\u001b[0m\n",
      "\u001b[1;31mValueError\u001b[0m: could not convert string to float: '3.0M'"
     ]
    }
   ],
   "source": [
    "android_clean = []\n",
    "\n",
    "already_added =[]\n",
    "for apps in android:\n",
    "    name = apps[0]\n",
    "    n_reviews = float(apps[3])\n",
    "    if (reviews_max[name]  == n_reviews ) and (name not in  already_added):\n",
    "        android_clean.append(apps)\n",
    "        already_added.append(name)"
   ]
  },
  {
   "cell_type": "code",
   "execution_count": 20,
   "metadata": {},
   "outputs": [
    {
     "name": "stdout",
     "output_type": "stream",
     "text": [
      "['Photo Editor & Candy Camera & Grid & ScrapBook', 'ART_AND_DESIGN', '4.1', '159', '19M', '10,000+', 'Free', '0', 'Everyone', 'Art & Design', 'January 7, 2018', '1.0.0', '4.0.3 and up']\n",
      "\n",
      "\n",
      "['U Launcher Lite – FREE Live Cool Themes, Hide Apps', 'ART_AND_DESIGN', '4.7', '87510', '8.7M', '5,000,000+', 'Free', '0', 'Everyone', 'Art & Design', 'August 1, 2018', '1.2.4', '4.0.3 and up']\n",
      "\n",
      "\n",
      "['Sketch - Draw & Paint', 'ART_AND_DESIGN', '4.5', '215644', '25M', '50,000,000+', 'Free', '0', 'Teen', 'Art & Design', 'June 8, 2018', 'Varies with device', '4.2 and up']\n",
      "\n",
      "\n",
      "Number of rows: 9300\n",
      "Number of columns: 13\n"
     ]
    }
   ],
   "source": [
    "explore_data(android_clean, 0, 3, True)"
   ]
  },
  {
   "cell_type": "markdown",
   "metadata": {},
   "source": [
    "Remove the non english apps\n",
    "Write a function to find the non english apps\n",
    "'ord' func returns the corresponding value of the string \n",
    "To include the english apps with special characters such as emoji upto 3 charcaters the string is checked. "
   ]
  },
  {
   "cell_type": "code",
   "execution_count": 21,
   "metadata": {},
   "outputs": [
    {
     "name": "stdout",
     "output_type": "stream",
     "text": [
      "True\n",
      "True\n"
     ]
    }
   ],
   "source": [
    "def is_english(string):\n",
    "    non_ascii = 0\n",
    "    for character in string:\n",
    "        if ord(character) > 127:\n",
    "            non_ascii += 1\n",
    "    if non_ascii > 3:\n",
    "        return False\n",
    "    else:\n",
    "        return True\n",
    "    \n",
    "print(is_english('Docs To Go™ Free Office Suite'))\n",
    "print (is_english('Instachat 😜'))      "
   ]
  },
  {
   "cell_type": "code",
   "execution_count": 25,
   "metadata": {},
   "outputs": [],
   "source": [
    "# to filter out the english apps \n",
    "ios_english_apps = []\n",
    "android_english_apps = []\n",
    "for apps in android_clean:\n",
    "    name = apps[0]\n",
    "    if is_english(name):\n",
    "        android_english_apps.append(apps)\n",
    "        \n",
    "for apps in ios:\n",
    "    name = apps[0]\n",
    "    if is_english(name):\n",
    "        ios_english_apps.append(apps)     "
   ]
  },
  {
   "cell_type": "code",
   "execution_count": 27,
   "metadata": {},
   "outputs": [
    {
     "name": "stdout",
     "output_type": "stream",
     "text": [
      "['Photo Editor & Candy Camera & Grid & ScrapBook', 'ART_AND_DESIGN', '4.1', '159', '19M', '10,000+', 'Free', '0', 'Everyone', 'Art & Design', 'January 7, 2018', '1.0.0', '4.0.3 and up']\n",
      "\n",
      "\n",
      "['U Launcher Lite – FREE Live Cool Themes, Hide Apps', 'ART_AND_DESIGN', '4.7', '87510', '8.7M', '5,000,000+', 'Free', '0', 'Everyone', 'Art & Design', 'August 1, 2018', '1.2.4', '4.0.3 and up']\n",
      "\n",
      "\n",
      "['Sketch - Draw & Paint', 'ART_AND_DESIGN', '4.5', '215644', '25M', '50,000,000+', 'Free', '0', 'Teen', 'Art & Design', 'June 8, 2018', 'Varies with device', '4.2 and up']\n",
      "\n",
      "\n",
      "Number of rows: 9256\n",
      "Number of columns: 13\n",
      "\n",
      "\n",
      "['1', '281656475', 'PAC-MAN Premium', '100788224', 'USD', '3.99', '21292', '26', '4', '4.5', '6.3.5', '4+', 'Games', '38', '5', '10', '1']\n",
      "\n",
      "\n",
      "['2', '281796108', 'Evernote - stay organized', '158578688', 'USD', '0', '161065', '26', '4', '3.5', '8.2.2', '4+', 'Productivity', '37', '5', '23', '1']\n",
      "\n",
      "\n",
      "['3', '281940292', 'WeatherBug - Local Weather, Radar, Maps, Alerts', '100524032', 'USD', '0', '188583', '2822', '3.5', '4.5', '5.0.0', '4+', 'Weather', '37', '5', '3', '1']\n",
      "\n",
      "\n",
      "Number of rows: 7197\n",
      "Number of columns: 17\n"
     ]
    }
   ],
   "source": [
    "explore_data(android_english_apps, 0, 3, True)\n",
    "print('\\n')\n",
    "explore_data(ios_english_apps, 0, 3, True)  "
   ]
  },
  {
   "cell_type": "code",
   "execution_count": 30,
   "metadata": {},
   "outputs": [
    {
     "name": "stdout",
     "output_type": "stream",
     "text": [
      "8532\n",
      "0\n"
     ]
    }
   ],
   "source": [
    "# Filter the free apps\n",
    "ios_free = []\n",
    "android_free = []\n",
    "for apps in android_english_apps:\n",
    "    price = apps[7]\n",
    "    if price == '0':\n",
    "        android_free.append(apps)\n",
    "        \n",
    "for apps in ios_english_apps:\n",
    "    price = apps[4]\n",
    "    if price == '0.0':\n",
    "        ios_free.append(apps)\n",
    "        \n",
    "print(len(android_free))\n",
    "print(len(ios_free))    "
   ]
  },
  {
   "cell_type": "markdown",
   "metadata": {},
   "source": [
    "To find the common genresfor each market\n",
    "To build frequency tables for few columns in the data set\n",
    "To find prime_genre  column of app store data set\n",
    "To find genres and category of google play data set"
   ]
  },
  {
   "cell_type": "code",
   "execution_count": 33,
   "metadata": {},
   "outputs": [],
   "source": [
    "def freq_table(dataset,index):\n",
    "    table = {}\n",
    "    total = 0\n",
    "    for row in dataset:\n",
    "        total += 1\n",
    "        value =  row[index]\n",
    "        if value in table:\n",
    "            table[value] += 1\n",
    "        else:\n",
    "            table[value] = 1\n",
    "    table_percentages ={}\n",
    "    for key in table:\n",
    "        percentage = (table[key]/total) * 100\n",
    "        table_percentages[key] = percentage\n",
    "        \n",
    "    return table_percentages\n",
    "\n"
   ]
  },
  {
   "cell_type": "code",
   "execution_count": 35,
   "metadata": {},
   "outputs": [
    {
     "name": "stdout",
     "output_type": "stream",
     "text": [
      "FAMILY : 18.96390060947023\n",
      "GAME : 9.681200187529301\n",
      "TOOLS : 8.485700890764182\n",
      "BUSINESS : 4.594467885607126\n",
      "PRODUCTIVITY : 3.926394749179559\n",
      "LIFESTYLE : 3.809188935771214\n",
      "FINANCE : 3.738865447726207\n",
      "MEDICAL : 3.621659634317862\n",
      "HEALTH_AND_FITNESS : 3.176277543366151\n",
      "PERSONALIZATION : 3.1645569620253164\n",
      "COMMUNICATION : 3.1645569620253164\n",
      "SPORTS : 3.059071729957806\n",
      "PHOTOGRAPHY : 2.96530707923113\n",
      "NEWS_AND_MAGAZINES : 2.7543366150961086\n",
      "SOCIAL : 2.6840131270511014\n",
      "SHOPPING : 2.3089545241443976\n",
      "TRAVEL_AND_LOCAL : 2.297233942803563\n",
      "BOOKS_AND_REFERENCE : 2.1214252226910455\n",
      "DATING : 1.9338959212376934\n",
      "VIDEO_PLAYERS : 1.8401312705110175\n",
      "MAPS_AND_NAVIGATION : 1.394749179559306\n",
      "FOOD_AND_DRINK : 1.2892639474917957\n",
      "EDUCATION : 1.207219878105954\n",
      "ENTERTAINMENT : 0.996249413970933\n",
      "LIBRARIES_AND_DEMO : 0.9610876699484294\n",
      "AUTO_AND_VEHICLES : 0.9259259259259258\n",
      "HOUSE_AND_HOME : 0.8556024378809189\n",
      "WEATHER : 0.7618377871542429\n",
      "EVENTS : 0.7149554617909049\n",
      "PARENTING : 0.6797937177684013\n",
      "ART_AND_DESIGN : 0.6680731364275668\n",
      "COMICS : 0.6329113924050633\n",
      "BEAUTY : 0.6211908110642288\n"
     ]
    }
   ],
   "source": [
    "def display_table(dataset,index):\n",
    "    table = freq_table(dataset,index)\n",
    "    table_display = []\n",
    "    for key in table:\n",
    "        key_value_tuple = (table[key],key)\n",
    "        table_display.append(key_value_tuple)\n",
    "        \n",
    "    table_sorted = sorted(table_display,reverse = True)\n",
    "    for entry in table_sorted :\n",
    "        print(entry[1],':',entry[0])\n",
    "        \n",
    "display_table(android_free,1)      "
   ]
  },
  {
   "cell_type": "code",
   "execution_count": 37,
   "metadata": {},
   "outputs": [],
   "source": [
    "display_table(ios_free,1)"
   ]
  },
  {
   "cell_type": "code",
   "execution_count": null,
   "metadata": {},
   "outputs": [],
   "source": []
  }
 ],
 "metadata": {
  "kernelspec": {
   "display_name": "Python 3",
   "language": "python",
   "name": "python3"
  },
  "language_info": {
   "codemirror_mode": {
    "name": "ipython",
    "version": 3
   },
   "file_extension": ".py",
   "mimetype": "text/x-python",
   "name": "python",
   "nbconvert_exporter": "python",
   "pygments_lexer": "ipython3",
   "version": "3.7.1"
  }
 },
 "nbformat": 4,
 "nbformat_minor": 2
}
